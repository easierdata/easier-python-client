{
 "cells": [
  {
   "cell_type": "markdown",
   "id": "e2c91b5b",
   "metadata": {},
   "source": [
    "# Easier Python Client Demo Notebook\n",
    "This document will explore usage and simple data retrieval with the easier python client"
   ]
  },
  {
   "cell_type": "code",
   "execution_count": 1,
   "id": "66a27310",
   "metadata": {},
   "outputs": [
    {
     "name": "stdout",
     "output_type": "stream",
     "text": [
      "Requirement already satisfied: aiohttp==3.8.4 in /usr/local/Caskroom/miniforge/base/lib/python3.9/site-packages (from -r requirements.txt (line 1)) (3.8.4)\n",
      "Requirement already satisfied: aiosignal==1.3.1 in /usr/local/Caskroom/miniforge/base/lib/python3.9/site-packages (from -r requirements.txt (line 2)) (1.3.1)\n",
      "Requirement already satisfied: async-timeout==4.0.2 in /usr/local/Caskroom/miniforge/base/lib/python3.9/site-packages (from -r requirements.txt (line 3)) (4.0.2)\n",
      "Requirement already satisfied: attrs==23.1.0 in /usr/local/Caskroom/miniforge/base/lib/python3.9/site-packages (from -r requirements.txt (line 4)) (23.1.0)\n",
      "Requirement already satisfied: beautifulsoup4==4.12.2 in /usr/local/Caskroom/miniforge/base/lib/python3.9/site-packages (from -r requirements.txt (line 5)) (4.12.2)\n",
      "Requirement already satisfied: bleach==6.0.0 in /usr/local/Caskroom/miniforge/base/lib/python3.9/site-packages (from -r requirements.txt (line 6)) (6.0.0)\n",
      "Requirement already satisfied: certifi==2023.5.7 in /usr/local/Caskroom/miniforge/base/lib/python3.9/site-packages (from -r requirements.txt (line 7)) (2023.5.7)\n",
      "Requirement already satisfied: charset-normalizer==3.1.0 in /usr/local/Caskroom/miniforge/base/lib/python3.9/site-packages (from -r requirements.txt (line 8)) (3.1.0)\n",
      "Requirement already satisfied: docutils==0.20.1 in /usr/local/Caskroom/miniforge/base/lib/python3.9/site-packages (from -r requirements.txt (line 9)) (0.20.1)\n",
      "Requirement already satisfied: frozenlist==1.3.3 in /usr/local/Caskroom/miniforge/base/lib/python3.9/site-packages (from -r requirements.txt (line 10)) (1.3.3)\n",
      "Requirement already satisfied: fsspec==2023.6.0 in /usr/local/Caskroom/miniforge/base/lib/python3.9/site-packages (from -r requirements.txt (line 11)) (2023.6.0)\n",
      "Requirement already satisfied: idna==3.4 in /usr/local/Caskroom/miniforge/base/lib/python3.9/site-packages (from -r requirements.txt (line 12)) (3.4)\n",
      "Requirement already satisfied: importlib-metadata==6.7.0 in /usr/local/Caskroom/miniforge/base/lib/python3.9/site-packages (from -r requirements.txt (line 13)) (6.7.0)\n",
      "Requirement already satisfied: ipfsspec==0.4.0 in /usr/local/Caskroom/miniforge/base/lib/python3.9/site-packages (from -r requirements.txt (line 14)) (0.4.0)\n",
      "Requirement already satisfied: jaraco.classes==3.2.3 in /usr/local/Caskroom/miniforge/base/lib/python3.9/site-packages (from -r requirements.txt (line 15)) (3.2.3)\n",
      "Requirement already satisfied: keyring==24.2.0 in /usr/local/Caskroom/miniforge/base/lib/python3.9/site-packages (from -r requirements.txt (line 16)) (24.2.0)\n",
      "Requirement already satisfied: markdown-it-py==3.0.0 in /usr/local/Caskroom/miniforge/base/lib/python3.9/site-packages (from -r requirements.txt (line 17)) (3.0.0)\n",
      "Requirement already satisfied: mdurl==0.1.2 in /usr/local/Caskroom/miniforge/base/lib/python3.9/site-packages (from -r requirements.txt (line 18)) (0.1.2)\n",
      "Requirement already satisfied: more-itertools==9.1.0 in /usr/local/Caskroom/miniforge/base/lib/python3.9/site-packages (from -r requirements.txt (line 19)) (9.1.0)\n",
      "Requirement already satisfied: multidict==6.0.4 in /usr/local/Caskroom/miniforge/base/lib/python3.9/site-packages (from -r requirements.txt (line 20)) (6.0.4)\n",
      "Requirement already satisfied: numpy==1.25.0 in /usr/local/Caskroom/miniforge/base/lib/python3.9/site-packages (from -r requirements.txt (line 21)) (1.25.0)\n",
      "Requirement already satisfied: pandas==2.0.3 in /usr/local/Caskroom/miniforge/base/lib/python3.9/site-packages (from -r requirements.txt (line 22)) (2.0.3)\n",
      "Requirement already satisfied: pkginfo==1.9.6 in /usr/local/Caskroom/miniforge/base/lib/python3.9/site-packages (from -r requirements.txt (line 23)) (1.9.6)\n",
      "Requirement already satisfied: Pygments==2.15.1 in /usr/local/Caskroom/miniforge/base/lib/python3.9/site-packages (from -r requirements.txt (line 24)) (2.15.1)\n",
      "Requirement already satisfied: python-dateutil==2.8.2 in /usr/local/Caskroom/miniforge/base/lib/python3.9/site-packages (from -r requirements.txt (line 25)) (2.8.2)\n",
      "Requirement already satisfied: pytz==2023.3 in /usr/local/Caskroom/miniforge/base/lib/python3.9/site-packages (from -r requirements.txt (line 26)) (2023.3)\n",
      "Requirement already satisfied: readme-renderer==40.0 in /usr/local/Caskroom/miniforge/base/lib/python3.9/site-packages (from -r requirements.txt (line 27)) (40.0)\n",
      "Requirement already satisfied: requests==2.31.0 in /usr/local/Caskroom/miniforge/base/lib/python3.9/site-packages (from -r requirements.txt (line 28)) (2.31.0)\n",
      "Requirement already satisfied: requests-toolbelt==1.0.0 in /usr/local/Caskroom/miniforge/base/lib/python3.9/site-packages (from -r requirements.txt (line 29)) (1.0.0)\n",
      "Requirement already satisfied: rfc3986==2.0.0 in /usr/local/Caskroom/miniforge/base/lib/python3.9/site-packages (from -r requirements.txt (line 30)) (2.0.0)\n",
      "Requirement already satisfied: rich==13.4.2 in /usr/local/Caskroom/miniforge/base/lib/python3.9/site-packages (from -r requirements.txt (line 31)) (13.4.2)\n",
      "Requirement already satisfied: six==1.16.0 in /usr/local/Caskroom/miniforge/base/lib/python3.9/site-packages (from -r requirements.txt (line 32)) (1.16.0)\n",
      "Requirement already satisfied: soupsieve==2.4.1 in /usr/local/Caskroom/miniforge/base/lib/python3.9/site-packages (from -r requirements.txt (line 33)) (2.4.1)\n",
      "Requirement already satisfied: twine==4.0.2 in /usr/local/Caskroom/miniforge/base/lib/python3.9/site-packages (from -r requirements.txt (line 34)) (4.0.2)\n",
      "Requirement already satisfied: tzdata==2023.3 in /usr/local/Caskroom/miniforge/base/lib/python3.9/site-packages (from -r requirements.txt (line 35)) (2023.3)\n",
      "Requirement already satisfied: urllib3==2.0.3 in /usr/local/Caskroom/miniforge/base/lib/python3.9/site-packages (from -r requirements.txt (line 36)) (2.0.3)\n",
      "Requirement already satisfied: webencodings==0.5.1 in /usr/local/Caskroom/miniforge/base/lib/python3.9/site-packages (from -r requirements.txt (line 37)) (0.5.1)\n",
      "Requirement already satisfied: yarl==1.9.2 in /usr/local/Caskroom/miniforge/base/lib/python3.9/site-packages (from -r requirements.txt (line 38)) (1.9.2)\n",
      "Requirement already satisfied: zipp==3.15.0 in /usr/local/Caskroom/miniforge/base/lib/python3.9/site-packages (from -r requirements.txt (line 39)) (3.15.0)\n"
     ]
    }
   ],
   "source": [
    "# Install prerequisites in jupyter kernel\n",
    "import sys\n",
    "!{sys.executable} -m pip install -r requirements.txt"
   ]
  },
  {
   "cell_type": "code",
   "execution_count": 3,
   "id": "1c9eec56",
   "metadata": {},
   "outputs": [],
   "source": [
    "# Import the client into your project\n",
    "from easier_python_client.client import web3\n",
    "\n",
    "\"\"\"\n",
    "Create a new client object\n",
    "\n",
    "The constructor takes two arguments\n",
    "1. boolean: force retrieval from local node?\n",
    "2. string: local node endpoint (https://IP:PORT/)\n",
    "3. string: stac endpoint\n",
    "\"\"\"\n",
    "easier = web3(False, \"\", \"http://ec2-54-172-212-55.compute-1.amazonaws.com/api/v1/pgstac/\")\n"
   ]
  },
  {
   "cell_type": "code",
   "execution_count": 4,
   "id": "480420bd",
   "metadata": {},
   "outputs": [
    {
     "name": "stdout",
     "output_type": "stream",
     "text": [
      "hello worlds\n",
      "\n"
     ]
    }
   ],
   "source": [
    "# Simple hello world retrieval\n",
    "hello_world = easier.getFromCID(\"QmZ4tDuvesekSs4qM5ZBKpXiZGun7S2CYtEZRB3DYXkjGx\")\n",
    "print(hello_world)"
   ]
  },
  {
   "cell_type": "code",
   "execution_count": 5,
   "id": "ebb7e311",
   "metadata": {},
   "outputs": [
    {
     "name": "stdout",
     "output_type": "stream",
     "text": [
      "Data frame length: 3510\n",
      "Data frame columns: Index(['pid', 's1_u_outcome', 's1_u_intrv_c', 's1_u_intrv_d', 's1_u_intrv_m',\n",
      "       's1_u_intrv_y', 's1_u_duration', 's1_u_consent', 's1_u_age',\n",
      "       's1_u_dob_y', 's1_u_dob_m', 's1_u_gen', 's1_u_prov', 's1_u_cvrec',\n",
      "       's1_u_chd', 's1_u_csck', 's1_u_ckndvs', 's1_u_cvpr', 's1_u_cvprd',\n",
      "       's1_u_nopres', 's1_u_cvpres', 's1_u_cvarea', 's1_u_cvreg',\n",
      "       's1_u_cvphrm', 's1_u_cvpln', 's1_u_cvrmain', 's1_u_cvrnd',\n",
      "       's1_u_cvrtme', 's1_u_cvrwhr', 's1_u_cvrfar', 's1_u_cvrtc',\n",
      "       's1_u_cvrkill', 's1_u_cvrse', 's1_u_cvrwrk', 's1_u_cvrtrst',\n",
      "       's1_u_cvrc', 's1_u_cvwkwh', 's1_u_cvwkvch', 's1_u_cvse1', 's1_u_cvse2',\n",
      "       's1_u_cvrwtrst', 's1_u_cvtme5pm', 's1_u_cvtmewkn', 's1_u_cvchlp',\n",
      "       's1_u_popgrp', 's1_u_area', 's1_u_area_des', 's1_u_watsrc',\n",
      "       's1_u_fdayn', 's1_u_devcint', 's1_u_vehpri', 's1_u_hhinc',\n",
      "       's1_u_hhinc_brac1', 's1_u_hhinc_brac2', 's1_u_hhinc_brac3',\n",
      "       's1_u_edschlev', 's1_u_edter', 's1_u_emwk', 's1_u_emanywk',\n",
      "       's1_u_emswk', 's1_u_emsklve', 's1_u_medaid', 's1_u_tstrnd',\n",
      "       's1_u_tstmilppl', 's1_u_tstnoapp', 's1_u_cvinfo', 's1_u_cvnum',\n",
      "       's1_u_cvnumwhich', 's1_u_intres', 's1_u_intlng1', 's1_u_intlng2',\n",
      "       's1_u_intlng3', 's1_u_intlng4'],\n",
      "      dtype='object')\n"
     ]
    }
   ],
   "source": [
    "# Simplify using different datatypes\n",
    "df = easier.getCSVDataframeFromCID(\"bafybeifw6kcodgxnamtuvhkxgaf4ep2rwscjae3gnzxb3zj5c6zyea2nri\")\n",
    "print(f\"Data frame length: {len(df)}\")\n",
    "print(f\"Data frame columns: {df.columns}\")"
   ]
  },
  {
   "cell_type": "code",
   "execution_count": null,
   "id": "0bdeafe3",
   "metadata": {},
   "outputs": [],
   "source": []
  }
 ],
 "metadata": {
  "kernelspec": {
   "display_name": "Python 3 (ipykernel)",
   "language": "python",
   "name": "python3"
  },
  "language_info": {
   "codemirror_mode": {
    "name": "ipython",
    "version": 3
   },
   "file_extension": ".py",
   "mimetype": "text/x-python",
   "name": "python",
   "nbconvert_exporter": "python",
   "pygments_lexer": "ipython3",
   "version": "3.7.6"
  }
 },
 "nbformat": 4,
 "nbformat_minor": 5
}
